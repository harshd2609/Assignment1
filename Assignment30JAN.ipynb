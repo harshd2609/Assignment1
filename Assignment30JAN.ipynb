{
 "cells": [
  {
   "cell_type": "code",
   "execution_count": 1,
   "id": "30a7edd3-8a4c-498a-b407-605770cec18e",
   "metadata": {},
   "outputs": [],
   "source": [
    "#Assignment2:"
   ]
  },
  {
   "cell_type": "code",
   "execution_count": 8,
   "id": "d8730580-5921-4534-b931-9b6275a632f8",
   "metadata": {},
   "outputs": [
    {
     "name": "stdin",
     "output_type": "stream",
     "text": [
      "Enter your Marks: 85\n"
     ]
    },
    {
     "name": "stdout",
     "output_type": "stream",
     "text": [
      "B\n"
     ]
    }
   ],
   "source": [
    "#Ques1:\n",
    "#ANS1:\n",
    "Marks = int(input(\"Enter your Marks:\"))\n",
    "if Marks>90:\n",
    "    print(\"A\")\n",
    "elif Marks>80 and Marks<=90:\n",
    "    print(\"B\")\n",
    "elif Marks>=60 and Marks<=80:\n",
    "    print(\"C\")\n",
    "else:\n",
    "    print(\"D\"\":-Because you are below 60\")\n",
    "    "
   ]
  },
  {
   "cell_type": "code",
   "execution_count": 12,
   "id": "bf337963-e17b-4098-8a3a-c63239ffa0f6",
   "metadata": {},
   "outputs": [
    {
     "name": "stdin",
     "output_type": "stream",
     "text": [
      "Enter the cost price of byke: 200000\n"
     ]
    },
    {
     "name": "stdout",
     "output_type": "stream",
     "text": [
      "YOUR ROAD TAX =15%\n",
      "TOTAL ROAD TAX:  30000.0\n"
     ]
    }
   ],
   "source": [
    "#Ans:2-\n",
    "cp = int(input(\"Enter the cost price of byke:\"))\n",
    "if cp>100000:\n",
    "    Tax = 0.15\n",
    "    print(\"YOUR ROAD TAX =15%\")\n",
    "elif cp>50000 and cp<=100000:\n",
    "    Tax = 0.10\n",
    "    print(\"YOUR ROAD TAX =10%\")\n",
    "else:\n",
    "    Tax = 0.05\n",
    "    print(\"YOUR ROAD TAX =5%\")\n",
    "roadtax = cp*Tax\n",
    "print(\"TOTAL ROAD TAX: \",roadtax)"
   ]
  },
  {
   "cell_type": "code",
   "execution_count": 14,
   "id": "c7e2e3da-12e4-4797-acd5-fd73d269ec37",
   "metadata": {},
   "outputs": [
    {
     "name": "stdin",
     "output_type": "stream",
     "text": [
      "enter the city: Agra\n"
     ]
    },
    {
     "name": "stdout",
     "output_type": "stream",
     "text": [
      "Taj Mahal\n"
     ]
    }
   ],
   "source": [
    "#Ans3:-\n",
    "city = input(\"enter the city:\")\n",
    "if city == 'Delhi':\n",
    "    print(\"RED FORT\")\n",
    "elif city == 'Agra':\n",
    "    print(\"Taj Mahal\")\n",
    "elif city == 'Jaipur':\n",
    "    print(\"Jai Mahal\")\n",
    "else:\n",
    "    print(\"!!!enter-the-valid-city!!!\")\n",
    "    "
   ]
  },
  {
   "cell_type": "code",
   "execution_count": 5,
   "id": "ab33c238-3bb3-44d0-8fb2-f55b3fc936ec",
   "metadata": {},
   "outputs": [
    {
     "name": "stdin",
     "output_type": "stream",
     "text": [
      "enter the number: 3\n"
     ]
    },
    {
     "name": "stdout",
     "output_type": "stream",
     "text": [
      "3\n"
     ]
    }
   ],
   "source": [
    "#Ans4:-\n",
    "n= int(input(\"enter the number:\"))\n",
    "count=0\n",
    "while n<=10:\n",
    "    if n%3==0:\n",
    "        count+=1\n",
    "    n+=1\n",
    "print(count)    \n",
    "    \n",
    "\n",
    "    \n",
    "    "
   ]
  },
  {
   "cell_type": "code",
   "execution_count": null,
   "id": "c5c8c3fe-6310-4444-9c39-b8c6ae199582",
   "metadata": {},
   "outputs": [],
   "source": [
    "#Ans5:\n",
    "'''Python While Loop is used to execute a block \n",
    "of statements repeatedly until a given condition is satisfied.\n",
    "And when the condition becomes false,\n",
    "the line immediately after the loop in the program is executed.\n",
    "Syntax: \n",
    " while expression:\n",
    "      statement(s)                         \n",
    "eg:-                                       '''"
   ]
  },
  {
   "cell_type": "code",
   "execution_count": 17,
   "id": "db15bcdd-1d86-49b3-b75a-c0578c876c82",
   "metadata": {},
   "outputs": [
    {
     "name": "stdout",
     "output_type": "stream",
     "text": [
      "4\n",
      "3\n",
      "2\n",
      "1\n"
     ]
    }
   ],
   "source": [
    "#example of ANS:5-\n",
    "a = [1, 2, 3, 4]\n",
    "  \n",
    "while a:\n",
    "    print(a.pop())"
   ]
  },
  {
   "cell_type": "code",
   "execution_count": 1,
   "id": "358e92c6-6ea3-46fd-8ca2-e0b628010dfc",
   "metadata": {},
   "outputs": [
    {
     "name": "stdin",
     "output_type": "stream",
     "text": [
      "enter the number: 10\n"
     ]
    },
    {
     "name": "stdout",
     "output_type": "stream",
     "text": [
      "* \n",
      "* * \n",
      "* * * \n",
      "* * * * \n",
      "* * * * * \n",
      "* * * * * * \n",
      "* * * * * * * \n",
      "* * * * * * * * \n",
      "* * * * * * * * * \n",
      "* * * * * * * * * * \n"
     ]
    }
   ],
   "source": [
    "#Ans6:-pattern-1\n",
    "n = int(input(\"enter the number:\"))\n",
    "i=1\n",
    "while i<=n:\n",
    "    j = 1\n",
    "    while j<=i:\n",
    "        print('*',end= ' ')\n",
    "        j+=1\n",
    "    print()\n",
    "    i+=1\n",
    "        \n"
   ]
  },
  {
   "cell_type": "code",
   "execution_count": 2,
   "id": "1b665b2e-e7c2-4c4b-bf09-80f4863aba1d",
   "metadata": {},
   "outputs": [
    {
     "name": "stdin",
     "output_type": "stream",
     "text": [
      "Enter number of rows :  10\n"
     ]
    },
    {
     "name": "stdout",
     "output_type": "stream",
     "text": [
      "* * * * * * * * * * \n",
      "* * * * * * * * * \n",
      "* * * * * * * * \n",
      "* * * * * * * \n",
      "* * * * * * \n",
      "* * * * * \n",
      "* * * * \n",
      "* * * \n",
      "* * \n",
      "* \n"
     ]
    }
   ],
   "source": [
    "#Ans6-pattern-2\n",
    "n = int(input('Enter number of rows : '))\n",
    "\n",
    "i = 1\n",
    "while i <= n :\n",
    "    j = n\n",
    "    while j >= i:\n",
    "        print(\"*\", end = \" \")\n",
    "        j -= 1\n",
    "    print()\n",
    "    i += 1"
   ]
  },
  {
   "cell_type": "code",
   "execution_count": 11,
   "id": "bcd06a1c-db0c-4535-8d04-9b865c979bd2",
   "metadata": {},
   "outputs": [
    {
     "name": "stdin",
     "output_type": "stream",
     "text": [
      "Enter number of rows :  10\n"
     ]
    },
    {
     "name": "stdout",
     "output_type": "stream",
     "text": [
      "  1 \n",
      "  2   3 \n",
      "  4   5   6 \n",
      "  7   8   9  10 \n",
      " 11  12  13  14  15 \n",
      " 16  17  18  19  20  21 \n",
      " 22  23  24  25  26  27  28 \n",
      " 29  30  31  32  33  34  35  36 \n",
      " 37  38  39  40  41  42  43  44  45 \n",
      " 46  47  48  49  50  51  52  53  54  55 \n"
     ]
    }
   ],
   "source": [
    "#Ans6-pattern-3\n",
    "n = int(input('Enter number of rows : '))\n",
    " \n",
    "k = 1\n",
    "i = 1\n",
    "while i <= n :\n",
    "    j = 1\n",
    "    while j <= i:\n",
    "        print(\"{:3d}\".format(k), end = \" \")\n",
    "        j += 1\n",
    "        k += 1\n",
    "    print()\n",
    "    i += 1"
   ]
  },
  {
   "cell_type": "code",
   "execution_count": 1,
   "id": "c32ef73e-d1e4-4d58-af37-38ca045121b3",
   "metadata": {},
   "outputs": [
    {
     "name": "stdout",
     "output_type": "stream",
     "text": [
      "10\n",
      "9\n",
      "8\n",
      "7\n",
      "6\n",
      "5\n",
      "4\n",
      "3\n",
      "2\n",
      "1\n"
     ]
    }
   ],
   "source": [
    "#ans7:\n",
    "i = 10\n",
    "while i>0:\n",
    "    print(i)\n",
    "    i = i-1"
   ]
  },
  {
   "cell_type": "code",
   "execution_count": 2,
   "id": "31cc6e90-277f-4776-a00b-19c1a33da67e",
   "metadata": {},
   "outputs": [
    {
     "name": "stdout",
     "output_type": "stream",
     "text": [
      "10\n",
      "9\n",
      "8\n",
      "7\n",
      "6\n",
      "5\n",
      "4\n",
      "3\n",
      "2\n",
      "1\n"
     ]
    }
   ],
   "source": [
    "#ans8:\n",
    "i = 10\n",
    "while i >0:\n",
    "    print(i)\n",
    "    i=i-1"
   ]
  },
  {
   "cell_type": "code",
   "execution_count": null,
   "id": "5b63b0c4-50c8-4796-be3c-090741827ea9",
   "metadata": {},
   "outputs": [],
   "source": []
  }
 ],
 "metadata": {
  "kernelspec": {
   "display_name": "Python 3 (ipykernel)",
   "language": "python",
   "name": "python3"
  },
  "language_info": {
   "codemirror_mode": {
    "name": "ipython",
    "version": 3
   },
   "file_extension": ".py",
   "mimetype": "text/x-python",
   "name": "python",
   "nbconvert_exporter": "python",
   "pygments_lexer": "ipython3",
   "version": "3.10.8"
  }
 },
 "nbformat": 4,
 "nbformat_minor": 5
}
