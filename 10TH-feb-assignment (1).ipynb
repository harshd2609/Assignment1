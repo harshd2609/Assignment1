{
 "cells": [
  {
   "cell_type": "code",
   "execution_count": 2,
   "id": "1c9cbe23-259d-4a47-9a9c-186a58aeac2f",
   "metadata": {},
   "outputs": [
    {
     "data": {
      "text/plain": [
       "'Q1. Which function is used to open a file?\\nWhat are the different modes of opening a file? Explain each mode\\nof file opening.\\nans1:-\\n\\nopen()function is used for open a file.\\n\\n*Read Only (‘r’) : Open text file for reading. The handle is positioned\\nat the beginning of the file. If the file does not exists, raises the I/O error. \\nThis is also the default mode in which a file is opened.\\n\\n*Read and Write (‘r+’): Open the file for reading and writing.\\nThe handle is positioned at the beginning of the file. \\nRaises I/O error if the file does not exist.\\n\\n*Write Only (‘w’) : Open the file for writing.\\nFor the existing files, the data is truncated and over-written.\\nThe handle is positioned at the beginning of the file.\\nCreates the file if the file does not exist.\\n\\n*Write and Read (‘w+’) : Open the file for reading and writing. \\nFor an existing file, data is truncated and over-written. \\nThe handle is positioned at the beginning of the file.\\n\\n*Append Only (‘a’): Open the file for writing.\\nThe file is created if it does not exist.\\nThe handle is positioned at the end of the file. \\nThe data being written will be inserted at the end, after the existing data.\\n\\n*Append and Read (‘a+’) : Open the file for reading and writing.\\nThe file is created if it does not exist. The handle is positioned \\nat the end of the file. The data being written will be inserted at the end,\\nafter the existing data.\\n'"
      ]
     },
     "execution_count": 2,
     "metadata": {},
     "output_type": "execute_result"
    }
   ],
   "source": [
    "'''Q1. Which function is used to open a file?\n",
    "What are the different modes of opening a file? Explain each mode\n",
    "of file opening.\n",
    "ans1:-\n",
    "\n",
    "open()function is used for open a file.\n",
    "\n",
    "*Read Only (‘r’) : Open text file for reading. The handle is positioned\n",
    "at the beginning of the file. If the file does not exists, raises the I/O error. \n",
    "This is also the default mode in which a file is opened.\n",
    "\n",
    "*Read and Write (‘r+’): Open the file for reading and writing.\n",
    "The handle is positioned at the beginning of the file. \n",
    "Raises I/O error if the file does not exist.\n",
    "\n",
    "*Write Only (‘w’) : Open the file for writing.\n",
    "For the existing files, the data is truncated and over-written.\n",
    "The handle is positioned at the beginning of the file.\n",
    "Creates the file if the file does not exist.\n",
    "\n",
    "*Write and Read (‘w+’) : Open the file for reading and writing. \n",
    "For an existing file, data is truncated and over-written. \n",
    "The handle is positioned at the beginning of the file.\n",
    "\n",
    "*Append Only (‘a’): Open the file for writing.\n",
    "The file is created if it does not exist.\n",
    "The handle is positioned at the end of the file. \n",
    "The data being written will be inserted at the end, after the existing data.\n",
    "\n",
    "*Append and Read (‘a+’) : Open the file for reading and writing.\n",
    "The file is created if it does not exist. The handle is positioned \n",
    "at the end of the file. The data being written will be inserted at the end,\n",
    "after the existing data.\n",
    "'''\n"
   ]
  },
  {
   "cell_type": "code",
   "execution_count": 3,
   "id": "883b3f4c-4e1f-4e02-9c33-a9a1000431cc",
   "metadata": {},
   "outputs": [
    {
     "data": {
      "text/plain": [
       "'ans2:-\\nPython close () function is used to close a function.\\nPython file technique close () closes the opened file. A closed file\\ncannot be delivered or written any more. Any operation, which needs\\nthat the file be opened will raise a Value Error next the file has been closed.\\n\\nIt is important to close files you are working with as soon as you are finished\\nwith them. This minimizes the amount of user virtual machine resources required and\\nhelps keep shared files and directories available for other users.\\nClosing a file means logically disconnecting it from the application program.'"
      ]
     },
     "execution_count": 3,
     "metadata": {},
     "output_type": "execute_result"
    }
   ],
   "source": [
    "#Q2. Why close() function is used? Why is it important to close a file?\n",
    "'''ans2:-\n",
    "Python close () function is used to close a function.\n",
    "Python file technique close () closes the opened file. A closed file\n",
    "cannot be delivered or written any more. Any operation, which needs\n",
    "that the file be opened will raise a Value Error next the file has been closed.\n",
    "\n",
    "It is important to close files you are working with as soon as you are finished\n",
    "with them. This minimizes the amount of user virtual machine resources required and\n",
    "helps keep shared files and directories available for other users.\n",
    "Closing a file means logically disconnecting it from the application program.'''"
   ]
  },
  {
   "cell_type": "code",
   "execution_count": 17,
   "id": "4827407f-0d56-4a74-b4dd-c34908f70c06",
   "metadata": {},
   "outputs": [],
   "source": [
    "'''Q3. Write a python program to create a text file. \n",
    "Write ‘I want to become a Data Scientist’ in that file. Then\n",
    "close the file. Open this file and read the content of the file.\n",
    "ans3:-'''\n",
    "f = open('file.txt' , 'w')\n",
    "f.write('I want to become a Data Scientist')\n",
    "f.close()"
   ]
  },
  {
   "cell_type": "code",
   "execution_count": 18,
   "id": "9b952543-45fd-4d9b-abab-3b88d62af870",
   "metadata": {},
   "outputs": [
    {
     "data": {
      "text/plain": [
       "'I want to become a Data Scientist'"
      ]
     },
     "execution_count": 18,
     "metadata": {},
     "output_type": "execute_result"
    }
   ],
   "source": [
    "#Q4. Explain the following with python code: read(), readline() and readlines().\n",
    "#ans4:-\n",
    "data = open('file.txt' , 'r')\n",
    "data.read()\n",
    "\n"
   ]
  },
  {
   "cell_type": "code",
   "execution_count": 19,
   "id": "dbfe829a-567b-4e09-b03b-cc5b4ba1f713",
   "metadata": {},
   "outputs": [
    {
     "data": {
      "text/plain": [
       "''"
      ]
     },
     "execution_count": 19,
     "metadata": {},
     "output_type": "execute_result"
    }
   ],
   "source": [
    "data.readline()"
   ]
  },
  {
   "cell_type": "code",
   "execution_count": 20,
   "id": "af2b43bc-a26f-47dc-af47-5c0b6819e62c",
   "metadata": {},
   "outputs": [
    {
     "data": {
      "text/plain": [
       "[]"
      ]
     },
     "execution_count": 20,
     "metadata": {},
     "output_type": "execute_result"
    }
   ],
   "source": [
    "data.readlines()"
   ]
  },
  {
   "cell_type": "code",
   "execution_count": 21,
   "id": "a4dc157e-147f-4ba9-8cf7-9551a3bb864e",
   "metadata": {},
   "outputs": [
    {
     "data": {
      "text/plain": [
       "'Q5. Explain why with statement is used with open().\\nWhat is the advantage of using with statement and\\nopen() together?\\n\\nans5:-\\nThe with statement works with the open() function to open a file.\\nUnlike open() where you have to close the file with the close() method,\\nthe with statement closes the file for you without you telling it to.\\n\\nADVANTAGE\\nThe with statement closes the file for you and you get to write less code.'"
      ]
     },
     "execution_count": 21,
     "metadata": {},
     "output_type": "execute_result"
    }
   ],
   "source": [
    "'''Q5. Explain why with statement is used with open().\n",
    "What is the advantage of using with statement and\n",
    "open() together?\n",
    "\n",
    "ans5:-\n",
    "The with statement works with the open() function to open a file.\n",
    "Unlike open() where you have to close the file with the close() method,\n",
    "the with statement closes the file for you without you telling it to.\n",
    "\n",
    "ADVANTAGE\n",
    "The with statement closes the file for you and you get to write less code.'''\n",
    "\n"
   ]
  },
  {
   "cell_type": "code",
   "execution_count": 28,
   "id": "85b640cd-2090-4f35-8ec8-a189953ecd21",
   "metadata": {},
   "outputs": [],
   "source": [
    "#Q6. Explain the write() and writelines() functions. Give a suitable example.\n",
    "'''ans6:\n",
    "The only difference between the write() and writelines() is that write() is used to\n",
    "write a string to an already opened file \n",
    "while writelines() method is used to write a list of strings in an opened file.\n",
    "\n",
    "example:-'''\n",
    "f = open('file1.txt' , 'w')\n",
    "f.write('I want to become a Data Scientist')\n",
    "f.writelines(['\\nHello everyone my name is:' , '\\nHarsh Diwakar'])\n",
    "f.close()"
   ]
  },
  {
   "cell_type": "code",
   "execution_count": 31,
   "id": "3bb34484-1bbe-40ff-a2ea-2f217338cf5a",
   "metadata": {},
   "outputs": [
    {
     "data": {
      "text/plain": [
       "['I want to become a Data Scientist\\n',\n",
       " 'Hello everyone my name is:\\n',\n",
       " 'Harsh Diwakar']"
      ]
     },
     "execution_count": 31,
     "metadata": {},
     "output_type": "execute_result"
    }
   ],
   "source": [
    "d = open('file1.txt' , 'r')\n",
    "d.readlines()"
   ]
  },
  {
   "cell_type": "code",
   "execution_count": null,
   "id": "57e4d11a-dd1a-4712-b80d-dcd351e28246",
   "metadata": {},
   "outputs": [],
   "source": []
  }
 ],
 "metadata": {
  "kernelspec": {
   "display_name": "Python 3 (ipykernel)",
   "language": "python",
   "name": "python3"
  },
  "language_info": {
   "codemirror_mode": {
    "name": "ipython",
    "version": 3
   },
   "file_extension": ".py",
   "mimetype": "text/x-python",
   "name": "python",
   "nbconvert_exporter": "python",
   "pygments_lexer": "ipython3",
   "version": "3.10.8"
  }
 },
 "nbformat": 4,
 "nbformat_minor": 5
}
