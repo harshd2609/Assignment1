{
 "cells": [
  {
   "cell_type": "code",
   "execution_count": 1,
   "id": "c0eb9a7f-db8a-4ed1-a329-7082ff7eacaf",
   "metadata": {},
   "outputs": [
    {
     "data": {
      "text/plain": [
       "\"ans1:\\nAbstraction is the process of hiding the internal details of an application \\nfrom the outer world. Abstraction is used to describe things in simple terms.\\nIt's used to create a boundary between the application and the client programs.\""
      ]
     },
     "execution_count": 1,
     "metadata": {},
     "output_type": "execute_result"
    }
   ],
   "source": [
    "#Q1. What is Abstraction in OOps? Explain with an example.\n",
    "'''ans1:\n",
    "Abstraction is the process of hiding the internal details of an application \n",
    "from the outer world. Abstraction is used to describe things in simple terms.\n",
    "It's used to create a boundary between the application and the client programs.'''\n",
    "\n",
    "\n"
   ]
  },
  {
   "cell_type": "code",
   "execution_count": 9,
   "id": "0981348f-b758-4999-b28f-bd2133bbfc36",
   "metadata": {},
   "outputs": [],
   "source": [
    "#example of q1:\n",
    "\n",
    "class harsh:\n",
    "    def __init__(self , email , number):\n",
    "        self.email = email\n",
    "        self.number = number\n",
    "    def return_harsh(self):\n",
    "        return self.email , self.number"
   ]
  },
  {
   "cell_type": "code",
   "execution_count": 10,
   "id": "293575e6-6bd6-4478-83a7-fc09d972e0d7",
   "metadata": {},
   "outputs": [],
   "source": [
    "obj = harsh('xyz@gmail.com' , 9876543210)"
   ]
  },
  {
   "cell_type": "code",
   "execution_count": 14,
   "id": "750139c9-b7e4-4c69-ae27-afa5d21d7aed",
   "metadata": {},
   "outputs": [
    {
     "data": {
      "text/plain": [
       "('xyz@gmail.com', 9876543210)"
      ]
     },
     "execution_count": 14,
     "metadata": {},
     "output_type": "execute_result"
    }
   ],
   "source": [
    "obj.return_harsh() #//here user only know about the execution not code.(abstraction)"
   ]
  },
  {
   "cell_type": "code",
   "execution_count": 15,
   "id": "e2047442-6655-4f7a-9949-508b441a7266",
   "metadata": {},
   "outputs": [
    {
     "data": {
      "text/plain": [
       "'ans2:\\nAbstraction is a design level process and it is used to reduce \\nthe complexity at the designing stage of a project. \\n\\nEncapsulation is an implementation level process, and it is used to \\nprovide privacy and maintain\\ncontrol over the transparency of data at the implementation stage of a project.'"
      ]
     },
     "execution_count": 15,
     "metadata": {},
     "output_type": "execute_result"
    }
   ],
   "source": [
    "#Q2.Differentiate between Abstraction and Encapsulation. Explain with an example.\n",
    "'''ans2:\n",
    "* Abstraction is hiding the details and implementation of the code.\n",
    "* Encapsulation is hiding the data and controlling the visibility of the code.\n"
   ]
  },
  {
   "cell_type": "code",
   "execution_count": 16,
   "id": "6b6cc050-1b39-4615-879d-2509f088adbd",
   "metadata": {},
   "outputs": [
    {
     "name": "stdout",
     "output_type": "stream",
     "text": [
      "HARSH\n",
      "LUCKNOW 0897867575\n",
      "Chinese Python Programming O+\n"
     ]
    }
   ],
   "source": [
    "#example of ans2:\n",
    "class Person:\n",
    "    def __init__(self):\n",
    "        self.name = \"HARSH\"\n",
    "\n",
    "    def bio(self):\n",
    "        self.addr = \"LUCKNOW\"\n",
    "        self.contact = \"0897867575\"\n",
    "        print(self.addr, self.contact)\n",
    "\n",
    "    def interest(self):\n",
    "        self.favFood = \"Chinese\"\n",
    "        self.hobbies = \"Python Programming\"\n",
    "        self.bloodGroup = \"O+\"\n",
    "        print(self.favFood, self.hobbies, self.bloodGroup)\n",
    "\n",
    "obj = Person()\n",
    "print(obj.name)\n",
    "obj.bio()\n",
    "obj.interest()\n"
   ]
  },
  {
   "cell_type": "code",
   "execution_count": 17,
   "id": "5eb58655-0193-4752-a339-859f605a5579",
   "metadata": {},
   "outputs": [
    {
     "data": {
      "text/plain": [
       "'An abstract base class is a class that is used as a blueprint for other classes.\\nAbstract base classes are a powerful feature in Python since they\\nhelp you define a blueprint for other classes that may have something in common.'"
      ]
     },
     "execution_count": 17,
     "metadata": {},
     "output_type": "execute_result"
    }
   ],
   "source": [
    "#Q3. What is abc module in python? Why is it used?\n",
    "#ans3:-\n",
    "'''The 'abc' module in Python library provides the infrastructure for \n",
    "defining custom abstract base classes.\n",
    "'abc' works by marking methods of the base class as abstract. \n",
    "This is done by @absttractmethod decorator.'''\n",
    "\n",
    "'''An abstract base class is a class that is used as a blueprint for other classes.\n",
    "Abstract base classes are a powerful feature in Python since they\n",
    "help you define a blueprint for other classes that may have something in common.'''"
   ]
  },
  {
   "cell_type": "code",
   "execution_count": 18,
   "id": "e1f89b49-a55e-4992-aac7-95466c2e1c61",
   "metadata": {},
   "outputs": [
    {
     "data": {
      "text/plain": [
       "' Data Abstraction in Python can\\nbe achieved through creating abstract classes and inheriting them later. '"
      ]
     },
     "execution_count": 18,
     "metadata": {},
     "output_type": "execute_result"
    }
   ],
   "source": [
    "#Q4. How can we achieve data abstraction?\n",
    "#ans4:\n",
    "''' Data Abstraction in Python can\n",
    "be achieved through creating abstract classes and inheriting them later. '''"
   ]
  },
  {
   "cell_type": "code",
   "execution_count": null,
   "id": "9a6e1814-9a57-4fa5-9d32-2c05a743778c",
   "metadata": {},
   "outputs": [],
   "source": [
    "#Q5. Can we create an instance of an abstract class? Explain your answer.\n"
   ]
  }
 ],
 "metadata": {
  "kernelspec": {
   "display_name": "Python 3 (ipykernel)",
   "language": "python",
   "name": "python3"
  },
  "language_info": {
   "codemirror_mode": {
    "name": "ipython",
    "version": 3
   },
   "file_extension": ".py",
   "mimetype": "text/x-python",
   "name": "python",
   "nbconvert_exporter": "python",
   "pygments_lexer": "ipython3",
   "version": "3.10.8"
  }
 },
 "nbformat": 4,
 "nbformat_minor": 5
}
