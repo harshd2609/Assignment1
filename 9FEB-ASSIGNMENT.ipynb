{
 "cells": [
  {
   "cell_type": "code",
   "execution_count": 7,
   "id": "d75a65db-ce2a-4c8a-afb4-849d55284e3f",
   "metadata": {},
   "outputs": [],
   "source": [
    "#Ques1:Create a vehicle class with an init method having instance variables as name_of_vehicle, max_speed and average_of_vehicle.\n",
    "\n",
    "class vehicle:\n",
    "    def __init__(self,name_of_variable,max_speed,average_of_vehicle):\n",
    "        self.name_of_variable = name_of_variable\n",
    "        self.max_speed = max_speed\n",
    "        self.average_of_vehicle= average_of_vehicle\n",
    "    def return_vehicle(self):\n",
    "        return self.name_of_variable ,self.max_speed,self.average_of_vehicle"
   ]
  },
  {
   "cell_type": "code",
   "execution_count": 8,
   "id": "13e78b72-4669-4042-b109-c7895826fc9a",
   "metadata": {},
   "outputs": [],
   "source": [
    "obj = vehicle('obj' , 200 , '20/l')"
   ]
  },
  {
   "cell_type": "code",
   "execution_count": 9,
   "id": "dd484dfa-222e-4335-b684-90ebbbcc06e5",
   "metadata": {},
   "outputs": [
    {
     "data": {
      "text/plain": [
       "('obj', 200, '20/l')"
      ]
     },
     "execution_count": 9,
     "metadata": {},
     "output_type": "execute_result"
    }
   ],
   "source": [
    "obj.return_vehicle()"
   ]
  },
  {
   "cell_type": "code",
   "execution_count": 10,
   "id": "ee386a19-45fd-4aa3-8aa3-8c8533b557bd",
   "metadata": {},
   "outputs": [
    {
     "data": {
      "text/plain": [
       "'20/l'"
      ]
     },
     "execution_count": 10,
     "metadata": {},
     "output_type": "execute_result"
    }
   ],
   "source": [
    "obj.average_of_vehicle"
   ]
  },
  {
   "cell_type": "code",
   "execution_count": 11,
   "id": "6b1363be-9f4e-4ade-9363-ff56976fbc82",
   "metadata": {},
   "outputs": [
    {
     "data": {
      "text/plain": [
       "200"
      ]
     },
     "execution_count": 11,
     "metadata": {},
     "output_type": "execute_result"
    }
   ],
   "source": [
    "obj.max_speed\n"
   ]
  },
  {
   "cell_type": "code",
   "execution_count": 12,
   "id": "61880f37-b597-4196-8c65-574688ecef36",
   "metadata": {},
   "outputs": [
    {
     "data": {
      "text/plain": [
       "'obj'"
      ]
     },
     "execution_count": 12,
     "metadata": {},
     "output_type": "execute_result"
    }
   ],
   "source": [
    "obj.name_of_variable\n"
   ]
  },
  {
   "cell_type": "code",
   "execution_count": 25,
   "id": "de776427-b60f-4ecf-9655-61c2c6fff9d5",
   "metadata": {},
   "outputs": [],
   "source": [
    "#ques2:Create a child class car from the vehicle class created in Que 1, which will inherit the vehicle class.\n",
    "#Create a method named seating_capacity which takes capacity as an argument and returns the name of\n",
    "#the vehicle and its seating capacity.\n",
    "\n",
    "class car(vehicle):\n",
    "    def seating_capacity(self , name , capacity):\n",
    "        self.name = name\n",
    "        self.capacity = capacity\n",
    "        return self.name,self.capacity\n"
   ]
  },
  {
   "cell_type": "code",
   "execution_count": 26,
   "id": "ca97a5f3-151c-4e90-9676-46cc9c059459",
   "metadata": {},
   "outputs": [],
   "source": [
    "o = car('obj' , 200, '15/l' )"
   ]
  },
  {
   "cell_type": "code",
   "execution_count": 27,
   "id": "598f99b0-ae8e-48d4-967c-a64892a3d07d",
   "metadata": {},
   "outputs": [
    {
     "data": {
      "text/plain": [
       "('DZIRE', '5 Seaters')"
      ]
     },
     "execution_count": 27,
     "metadata": {},
     "output_type": "execute_result"
    }
   ],
   "source": [
    "o.seating_capacity(\"DZIRE\" , \"5 Seaters\")"
   ]
  },
  {
   "cell_type": "code",
   "execution_count": 28,
   "id": "ba7cc5f9-c4d8-478d-8a2e-19e82299be72",
   "metadata": {},
   "outputs": [
    {
     "data": {
      "text/plain": [
       "'When a class is derived from more than one base class it is called multiple Inheritance.\\nThe derived class inherits all the features of the base case.\\nWhen you\\'re born, you look similar to your parents, and that essentially means that you \"inherited\" the qualities or characteristics of your parents. \\nIn the same way, in Python when we talk about classes and objects, we have certain classes (child classes) that we define, which \"inherit\" from other \\nclasses (parent classes). \\nIf we create sub-classes of the child classes, they would inherit the properties of the parent class as well.'"
      ]
     },
     "execution_count": 28,
     "metadata": {},
     "output_type": "execute_result"
    }
   ],
   "source": [
    "#ques3:What is multiple inheritance? Write a python code to demonstrate multiple inheritance.\n",
    "\n",
    "'''When a class is derived from more than one base class it is called multiple Inheritance.\n",
    "The derived class inherits all the features of the base case.\n",
    "When you're born, you look similar to your parents, and that essentially means that you \"inherited\" the qualities or characteristics of your parents. \n",
    "In the same way, in Python when we talk about classes and objects, we have certain classes (child classes) that we define, which \"inherit\" from other \n",
    "classes (parent classes). \n",
    "If we create sub-classes of the child classes, they would inherit the properties of the parent class as well.'''\n",
    "\n"
   ]
  },
  {
   "cell_type": "code",
   "execution_count": 35,
   "id": "1fa54f29-2095-452d-a1b6-e1da2d93e2e8",
   "metadata": {},
   "outputs": [],
   "source": [
    "#EXAMPLE OF MULTIPLE INHERITANCE\n",
    "class dad():\n",
    "    def singing(self):\n",
    "        return 'dad sings well'\n",
    "class mom():\n",
    "    def coding(self):\n",
    "        return 'mom coding well'\n",
    "class Child(dad , mom):    \n",
    "    def play(self):\n",
    "        return 'child loves to play'\n",
    "\n",
    "\n",
    "    "
   ]
  },
  {
   "cell_type": "code",
   "execution_count": 36,
   "id": "b32afdef-abe7-418b-84f7-4f268e3720cb",
   "metadata": {},
   "outputs": [],
   "source": [
    "child = Child()"
   ]
  },
  {
   "cell_type": "code",
   "execution_count": 38,
   "id": "b353d7b4-cd63-485e-80b7-afbfd3a2cf1a",
   "metadata": {},
   "outputs": [
    {
     "data": {
      "text/plain": [
       "'dad sings well'"
      ]
     },
     "execution_count": 38,
     "metadata": {},
     "output_type": "execute_result"
    }
   ],
   "source": [
    "child.singing()"
   ]
  },
  {
   "cell_type": "code",
   "execution_count": 39,
   "id": "2507867f-1989-4f39-b7f5-7c5269b165cd",
   "metadata": {},
   "outputs": [
    {
     "data": {
      "text/plain": [
       "'mom coding well'"
      ]
     },
     "execution_count": 39,
     "metadata": {},
     "output_type": "execute_result"
    }
   ],
   "source": [
    "child.coding()"
   ]
  },
  {
   "cell_type": "code",
   "execution_count": 40,
   "id": "d7d727f1-6b3d-4ee8-b01b-46d3257207c3",
   "metadata": {},
   "outputs": [
    {
     "data": {
      "text/plain": [
       "'child loves to play'"
      ]
     },
     "execution_count": 40,
     "metadata": {},
     "output_type": "execute_result"
    }
   ],
   "source": [
    "child.play()"
   ]
  },
  {
   "cell_type": "code",
   "execution_count": 41,
   "id": "165ac7c6-82ff-486e-9027-4127f4b04da3",
   "metadata": {},
   "outputs": [
    {
     "data": {
      "text/plain": [
       "'Getters: These are the methods used in Object-Oriented Programming (OOPS) which helps to access the private attributes from a class.\\n   Setters: These are the methods used in OOPS feature which helps to set the value to private attributes in a class.'"
      ]
     },
     "execution_count": 41,
     "metadata": {},
     "output_type": "execute_result"
    }
   ],
   "source": [
    "#ques4:What are getter and setter in python? Create a class and create a getter and a setter method in this class.\n",
    "'''Getters: These are the methods used in Object-Oriented Programming (OOPS) which helps to access the private attributes from a class.\n",
    "   Setters: These are the methods used in OOPS feature which helps to set the value to private attributes in a class.'''"
   ]
  },
  {
   "cell_type": "code",
   "execution_count": 89,
   "id": "70a74fdb-675b-43b6-9ed2-faedbc752e8f",
   "metadata": {},
   "outputs": [],
   "source": [
    "class SampleClass:\n",
    "\n",
    "    def __init__(self, a):\n",
    "        self.__a = a\n",
    "\n",
    "  \n",
    "    def get_a(self):\n",
    "        return self.__a\n",
    "\n",
    "    def set_a(self, a):\n",
    "        self.__a = a"
   ]
  },
  {
   "cell_type": "code",
   "execution_count": 90,
   "id": "a47702ef-ddad-4830-a129-42785ce8c795",
   "metadata": {},
   "outputs": [
    {
     "name": "stdout",
     "output_type": "stream",
     "text": [
      "10\n",
      "45\n"
     ]
    }
   ],
   "source": [
    "\n",
    "obj = SampleClass(10)\n",
    "\n",
    "\n",
    "print(obj.get_a())\n",
    "\n",
    "\n",
    "obj.set_a(45)\n",
    "\n",
    "print(obj.get_a())"
   ]
  },
  {
   "cell_type": "code",
   "execution_count": 91,
   "id": "c4edd16f-55d5-4b7f-b15f-a464030d346e",
   "metadata": {},
   "outputs": [
    {
     "data": {
      "text/plain": [
       "'Method overriding is an ability of any object-oriented\\nprogramming language that allows a subclass or child class to provide a\\nspecific implementation of a method that is already provided by one of its \\nsuper-classes or parent classes. When a method in a subclass has the same name,\\nsame parameters or signature and same return type(or sub-type) as a method in its super-class,\\nthen the method in the subclass is said to override the method in the super-class.\\n'"
      ]
     },
     "execution_count": 91,
     "metadata": {},
     "output_type": "execute_result"
    }
   ],
   "source": [
    "#ques5:What is method overriding in python? Write a python code to demonstrate method overriding.\n",
    "\n",
    "'''Method overriding is an ability of any object-oriented\n",
    "programming language that allows a subclass or child class to provide a\n",
    "specific implementation of a method that is already provided by one of its \n",
    "super-classes or parent classes. When a method in a subclass has the same name,\n",
    "same parameters or signature and same return type(or sub-type) as a method in its super-class,\n",
    "then the method in the subclass is said to override the method in the super-class.\n",
    "'''"
   ]
  },
  {
   "cell_type": "code",
   "execution_count": 79,
   "id": "86478a1c-a4cf-4a73-8e81-9418f0bc2ba8",
   "metadata": {},
   "outputs": [],
   "source": [
    "#code:-\n",
    "\n",
    " \n",
    "# Defining parent class\n",
    "class Parent():\n",
    "      \n",
    "    # Constructor\n",
    "    def __init__(self):\n",
    "        self.value = \"Inside Parent\"\n",
    "          \n",
    "    # Parent's show method\n",
    "    def show(self):\n",
    "        print(self.value)\n",
    "          \n",
    "# Defining child class\n",
    "class Child(Parent):\n",
    "      \n",
    "    # Constructor\n",
    "    def __init__(self):\n",
    "        self.value = \"Inside Child\"\n",
    "          \n",
    "    # Child's show method\n",
    "    def show(self):\n",
    "        print(self.value)\n",
    "          \n",
    "          \n",
    "# Driver's code\n",
    "obj1 = Parent()\n",
    "obj2 = Child()\n",
    "  \n",
    "obj1.show()\n",
    "obj2.show()"
   ]
  },
  {
   "cell_type": "code",
   "execution_count": null,
   "id": "7e3e3726-2dde-4b42-a2f0-d8cc43452e19",
   "metadata": {},
   "outputs": [],
   "source": [
    "\n"
   ]
  },
  {
   "cell_type": "code",
   "execution_count": null,
   "id": "f2f37811-a29f-401a-a92f-fce9d50f6f99",
   "metadata": {},
   "outputs": [],
   "source": []
  },
  {
   "cell_type": "code",
   "execution_count": null,
   "id": "b2a5d00d-849d-4e46-950a-225ee404437e",
   "metadata": {},
   "outputs": [],
   "source": []
  }
 ],
 "metadata": {
  "kernelspec": {
   "display_name": "Python 3 (ipykernel)",
   "language": "python",
   "name": "python3"
  },
  "language_info": {
   "codemirror_mode": {
    "name": "ipython",
    "version": 3
   },
   "file_extension": ".py",
   "mimetype": "text/x-python",
   "name": "python",
   "nbconvert_exporter": "python",
   "pygments_lexer": "ipython3",
   "version": "3.10.8"
  }
 },
 "nbformat": 4,
 "nbformat_minor": 5
}
