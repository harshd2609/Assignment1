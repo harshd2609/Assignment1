{
 "cells": [
  {
   "cell_type": "code",
   "execution_count": 1,
   "id": "7ec520b4-a41b-4145-a48c-79edd1c6a486",
   "metadata": {},
   "outputs": [
    {
     "data": {
      "text/plain": [
       "'Ans1:- Guido van Rossum developed the python programming\\nlanguage.'"
      ]
     },
     "execution_count": 1,
     "metadata": {},
     "output_type": "execute_result"
    }
   ],
   "source": [
    "'''Ans1:- Guido van Rossum developed the python programming\n",
    "language.'''"
   ]
  },
  {
   "cell_type": "code",
   "execution_count": 2,
   "id": "18c2e2b6-7f01-48c5-ac0e-091e1b33a3cc",
   "metadata": {},
   "outputs": [
    {
     "data": {
      "text/plain": [
       "'ans2:- Python is a multi-paradigm programming language.\\nObject-oriented programming and structured programming are\\nfully supported, and many of their features support \\nfunctional programming and aspect-oriented programming \\n(including metaprogramming and metaobjects).'"
      ]
     },
     "execution_count": 2,
     "metadata": {},
     "output_type": "execute_result"
    }
   ],
   "source": [
    "'''ans2:- Python is a multi-paradigm programming language.\n",
    "Object-oriented programming and structured programming are\n",
    "fully supported, and many of their features support \n",
    "functional programming and aspect-oriented programming \n",
    "(including metaprogramming and metaobjects).'''"
   ]
  },
  {
   "cell_type": "code",
   "execution_count": 3,
   "id": "cfba86b9-6b63-4d02-a3b8-943632767b59",
   "metadata": {},
   "outputs": [
    {
     "data": {
      "text/plain": [
       "'ans3:- Yes, Python is a case-sensitive language,\\ni.e., it treats uppercase and lowercase characters differently. \\nThis applies to identifiers too.'"
      ]
     },
     "execution_count": 3,
     "metadata": {},
     "output_type": "execute_result"
    }
   ],
   "source": [
    "'''ans3:- Yes, Python is a case-sensitive language,\n",
    "i.e., it treats uppercase and lowercase characters differently. \n",
    "This applies to identifiers too.'''"
   ]
  },
  {
   "cell_type": "code",
   "execution_count": 4,
   "id": "5db75770-2d43-4dad-bcf3-a235458bfe61",
   "metadata": {},
   "outputs": [
    {
     "data": {
      "text/plain": [
       "'ans4:-.py extension'"
      ]
     },
     "execution_count": 4,
     "metadata": {},
     "output_type": "execute_result"
    }
   ],
   "source": [
    "'ans4:-.py extension'"
   ]
  },
  {
   "cell_type": "code",
   "execution_count": 5,
   "id": "db4709c1-c75f-4f2f-9717-f53d4a2a6c81",
   "metadata": {},
   "outputs": [
    {
     "data": {
      "text/plain": [
       "'ans5:-Python is an interpreted language,\\nwhich means the source code of a Python program\\nis converted into bytecode that is then executed \\nby the Python virtual machine.'"
      ]
     },
     "execution_count": 5,
     "metadata": {},
     "output_type": "execute_result"
    }
   ],
   "source": [
    "'''ans5:-Python is an interpreted language,\n",
    "which means the source code of a Python program\n",
    "is converted into bytecode that is then executed \n",
    "by the Python virtual machine.'''"
   ]
  },
  {
   "cell_type": "code",
   "execution_count": 6,
   "id": "6f8e12f1-8abd-4898-a215-4f0806d282bc",
   "metadata": {},
   "outputs": [
    {
     "data": {
      "text/plain": [
       "'ans6:=The following are blocks: a module, \\na function body, and a class definition. \\nEach command typed interactively is a block.'"
      ]
     },
     "execution_count": 6,
     "metadata": {},
     "output_type": "execute_result"
    }
   ],
   "source": [
    "'''ans6:=The following are blocks: a module, \n",
    "a function body, and a class definition. \n",
    "Each command typed interactively is a block.'''"
   ]
  },
  {
   "cell_type": "code",
   "execution_count": 7,
   "id": "58a0783e-3afd-451b-8a12-9c9e2e06978b",
   "metadata": {},
   "outputs": [],
   "source": [
    "#ans7:- Hash character(#)"
   ]
  },
  {
   "cell_type": "code",
   "execution_count": 8,
   "id": "4065e367-513c-439b-a76f-d2af0ad1e326",
   "metadata": {},
   "outputs": [],
   "source": [
    "#ans8:- sys.version"
   ]
  },
  {
   "cell_type": "code",
   "execution_count": 9,
   "id": "9c643695-aeb6-4026-b3e4-69e21388c023",
   "metadata": {},
   "outputs": [
    {
     "data": {
      "text/plain": [
       "'ans9:-Python supports to make anonymous\\nfunctions which are not bound to a name(@ runtime).\\nIt uses a construct called \"lambda\"'"
      ]
     },
     "execution_count": 9,
     "metadata": {},
     "output_type": "execute_result"
    }
   ],
   "source": [
    "'''ans9:-Python supports to make anonymous\n",
    "functions which are not bound to a name(@ runtime).\n",
    "It uses a construct called \"lambda\"'''"
   ]
  },
  {
   "cell_type": "code",
   "execution_count": 13,
   "id": "7bfe4ade-2a80-4bd6-9610-b31621ec1d26",
   "metadata": {},
   "outputs": [
    {
     "name": "stdout",
     "output_type": "stream",
     "text": [
      "pip =  preferred installer program\n"
     ]
    }
   ],
   "source": [
    "ans10 = print('pip ' '= ' \" preferred installer program\")"
   ]
  },
  {
   "cell_type": "code",
   "execution_count": 14,
   "id": "fdcf0c1e-77fd-4fcb-96e9-c9c8ea546ed1",
   "metadata": {},
   "outputs": [
    {
     "data": {
      "text/plain": [
       "'ans11:-print( ) function.\\ntype( ) function.input( ) function.\\nabs( ) function.sorted( ) function.\\nmax( ) function'"
      ]
     },
     "execution_count": 14,
     "metadata": {},
     "output_type": "execute_result"
    }
   ],
   "source": [
    "'''ans11:-print( ) function.\n",
    "type( ) function.input( ) function.\n",
    "abs( ) function.sorted( ) function.\n",
    "max( ) function'''"
   ]
  },
  {
   "cell_type": "code",
   "execution_count": 15,
   "id": "7601a886-b5a3-4f6c-8625-f5df8e45956d",
   "metadata": {},
   "outputs": [],
   "source": [
    "#ans12:- 79 characters"
   ]
  },
  {
   "cell_type": "code",
   "execution_count": 16,
   "id": "d598af78-e6cf-4d69-abec-2a36a8c3ccfc",
   "metadata": {},
   "outputs": [
    {
     "data": {
      "text/plain": [
       "'ans13:-Easy to use.\\nSystem automation and administration.\\nComputer graphics.\\nBasic game development.\\nGeneral and application-specific scripting\\nSecurity and penetration testing'"
      ]
     },
     "execution_count": 16,
     "metadata": {},
     "output_type": "execute_result"
    }
   ],
   "source": [
    "'''ans13:-Easy to use.\n",
    "System automation and administration.\n",
    "Computer graphics.\n",
    "Basic game development.\n",
    "General and application-specific scripting\n",
    "Security and penetration testing'''"
   ]
  },
  {
   "cell_type": "code",
   "execution_count": 17,
   "id": "ecb821c8-a231-4607-90fa-8093088b936a",
   "metadata": {},
   "outputs": [
    {
     "data": {
      "text/plain": [
       "'ans14:-Memory management in Python involves\\na private heap containing all Python objects and data \\nstructures. The management of this private heap is\\nensured internally by the Python memory manager'"
      ]
     },
     "execution_count": 17,
     "metadata": {},
     "output_type": "execute_result"
    }
   ],
   "source": [
    "'''ans14:-Memory management in Python involves\n",
    "a private heap containing all Python objects and data \n",
    "structures. The management of this private heap is\n",
    "ensured internally by the Python memory manager'''"
   ]
  },
  {
   "cell_type": "code",
   "execution_count": 20,
   "id": "cf3a3d27-b261-46d8-ae9f-2c147d96937c",
   "metadata": {},
   "outputs": [
    {
     "data": {
      "text/plain": [
       "'ans15:-1:Right-clicking This PC and going to Properties.\\n\\n2:Clicking on the Advanced system settings in the menu on the left.\\n\\n3:Clicking on the Environment Variables button on the bottom right.\\n\\n4:In the System variables section, selecting the Path variable \\nand clicking on Edit. The next screen will show all \\nthe directories that are currently a part of the PATH variable.\\n\\n5:Clicking on New and entering Python’s install directory.'"
      ]
     },
     "execution_count": 20,
     "metadata": {},
     "output_type": "execute_result"
    }
   ],
   "source": [
    "'''ans15:-1:Right-clicking This PC and going to Properties.\n",
    "\n",
    "2:Clicking on the Advanced system settings in the menu on the left.\n",
    "\n",
    "3:Clicking on the Environment Variables button on the bottom right.\n",
    "\n",
    "4:In the System variables section, selecting the Path variable \n",
    "and clicking on Edit. The next screen will show all \n",
    "the directories that are currently a part of the PATH variable.\n",
    "\n",
    "5:Clicking on New and entering Python’s install directory.'''"
   ]
  },
  {
   "cell_type": "code",
   "execution_count": 21,
   "id": "bdc74192-db0f-42fd-b402-bbe5633c834a",
   "metadata": {},
   "outputs": [],
   "source": [
    "#ans16:- Yes python required indentation"
   ]
  },
  {
   "cell_type": "code",
   "execution_count": null,
   "id": "f0cc766e-3ca8-4731-a20c-ee51701796f7",
   "metadata": {},
   "outputs": [],
   "source": []
  },
  {
   "cell_type": "code",
   "execution_count": null,
   "id": "9cea8c67-3b2c-4dff-a695-f409bde1a739",
   "metadata": {},
   "outputs": [],
   "source": []
  }
 ],
 "metadata": {
  "kernelspec": {
   "display_name": "Python 3 (ipykernel)",
   "language": "python",
   "name": "python3"
  },
  "language_info": {
   "codemirror_mode": {
    "name": "ipython",
    "version": 3
   },
   "file_extension": ".py",
   "mimetype": "text/x-python",
   "name": "python",
   "nbconvert_exporter": "python",
   "pygments_lexer": "ipython3",
   "version": "3.10.8"
  }
 },
 "nbformat": 4,
 "nbformat_minor": 5
}
