{
 "cells": [
  {
   "cell_type": "code",
   "execution_count": 3,
   "id": "91004814-0377-4340-b7f7-d1063a7842e0",
   "metadata": {},
   "outputs": [
    {
     "data": {
      "text/plain": [
       "'\\nCLASS:-\\n- A Class is like an object constructor, or a \"blueprint\" for creating objects.\\n- We can think of the class as a sketch (prototype) of a house. \\nIt contains all the details about the floors, doors, \\nwindows, etc. Based on these descriptions we build the house. House is the object.\\n-syntax\\nclass ClassName:\\n    # class definition \\nexample:-    \\nclass Bike:\\n    name = \"\"\\n    gear = 0    \\n    \\n\\nOBJECT:-\\n- An object is called an instance of a class. For example, suppose Bike is a \\nclass then we can create objects like bike1, bike2, etc from the class.\\n-syntax\\nobjectName = ClassName()\\nexample:-\\n-# create class\\nclass Bike:\\n    name = \"\"\\n    gear = 0\\n\\n# create objects of class\\nbike1 = Bike()'"
      ]
     },
     "execution_count": 3,
     "metadata": {},
     "output_type": "execute_result"
    }
   ],
   "source": [
    "#QUES1: Explain Class and Object with respect to Object-Oriented Programming.\n",
    "#Give a suitable example.\n",
    "#Ans1:-\n",
    "'''\n",
    "CLASS:-\n",
    "- A Class is like an object constructor, or a \"blueprint\" for creating objects.\n",
    "- We can think of the class as a sketch (prototype) of a house. \n",
    "It contains all the details about the floors, doors, \n",
    "windows, etc. Based on these descriptions we build the house. House is the object.\n",
    "-syntax\n",
    "class ClassName:\n",
    "    # class definition \n",
    "example:-    \n",
    "class Bike:\n",
    "    name = \"\"\n",
    "    gear = 0    \n",
    "    \n",
    "\n",
    "OBJECT:-\n",
    "- An object is called an instance of a class. For example, suppose Bike is a \n",
    "class then we can create objects like bike1, bike2, etc from the class.\n",
    "-syntax\n",
    "objectName = ClassName()\n",
    "example:-\n",
    "-# create class\n",
    "class Bike:\n",
    "    name = \"\"\n",
    "    gear = 0\n",
    "\n",
    "# create objects of class\n",
    "bike1 = Bike()'''\n",
    "\n",
    "\n"
   ]
  },
  {
   "cell_type": "code",
   "execution_count": 4,
   "id": "04d41a21-eddd-4b4f-99eb-30721fbfebbc",
   "metadata": {},
   "outputs": [],
   "source": [
    "#QUES2:- Name the four pillars of OOPs.\n",
    "#ANS2:-\n",
    "#  Inheritance, Polymorphism, Encapsulation and Abstraction.\n"
   ]
  },
  {
   "cell_type": "code",
   "execution_count": 6,
   "id": "97b24d5f-1f65-4cfa-ad95-60c53658573c",
   "metadata": {},
   "outputs": [
    {
     "data": {
      "text/plain": [
       "\"The Default __init__ Constructor in C++ and Java. Constructors \\nare used to initializing the object’s state. The task of constructors \\nis to initialize(assign values) to the data members of the class when\\nan object of the class is created. Like methods, a constructor also \\ncontains a collection of statements(i.e. instructions) that are executed \\nat the time of Object creation. It is run as soon as an object of a class\\nis instantiated. \\nThe method is useful to do any initialization you want to do with your object.\\n\\nExample:-\\nclass Person:\\n \\n    # init method or constructor\\n    def __init__(self, name):\\n        self.name = name\\n \\n    # Sample Method\\n    def say_hi(self):\\n        print('Hello, my name is', self.name)\\n \\n \\np = Person('HARSH')\\np.say_hi()\""
      ]
     },
     "execution_count": 6,
     "metadata": {},
     "output_type": "execute_result"
    }
   ],
   "source": [
    "#QUES3:- Explain why the __init__() function is used. Give a suitable example.\n",
    "#ANS3:-\n",
    "'''The Default __init__ Constructor in C++ and Java. Constructors \n",
    "are used to initializing the object’s state. The task of constructors \n",
    "is to initialize(assign values) to the data members of the class when\n",
    "an object of the class is created. Like methods, a constructor also \n",
    "contains a collection of statements(i.e. instructions) that are executed \n",
    "at the time of Object creation. It is run as soon as an object of a class\n",
    "is instantiated. \n",
    "The method is useful to do any initialization you want to do with your object.\n",
    "\n",
    "Example:-\n",
    "class Person:\n",
    " \n",
    "    # init method or constructor\n",
    "    def __init__(self, name):\n",
    "        self.name = name\n",
    " \n",
    "    # Sample Method\n",
    "    def say_hi(self):\n",
    "        print('Hello, my name is', self.name)\n",
    " \n",
    " \n",
    "p = Person('HARSH')\n",
    "p.say_hi()'''"
   ]
  },
  {
   "cell_type": "code",
   "execution_count": 8,
   "id": "ddae4457-ab11-4dbc-a2a2-9ecb2f5c8c39",
   "metadata": {},
   "outputs": [
    {
     "name": "stdout",
     "output_type": "stream",
     "text": [
      "Hello, my name is HARSH\n"
     ]
    }
   ],
   "source": [
    "#execution of example of ans 3:-\n",
    "class Person:\n",
    " \n",
    "    \n",
    "    def __init__(self, name):\n",
    "        self.name = name\n",
    " \n",
    "    \n",
    "    def say_hi(self):\n",
    "        print('Hello, my name is', self.name)\n",
    " \n",
    " \n",
    "p = Person('HARSH')\n",
    "p.say_hi()"
   ]
  },
  {
   "cell_type": "code",
   "execution_count": 9,
   "id": "a9c4776b-9b8c-4821-b412-4058f03dae59",
   "metadata": {},
   "outputs": [
    {
     "data": {
      "text/plain": [
       "'The self variable is used to represent the instance of the class which is often \\nused in object-oriented programming. It works as a reference to the object. Python\\nuses the self parameter to refer to instance attributes and methods of the class.'"
      ]
     },
     "execution_count": 9,
     "metadata": {},
     "output_type": "execute_result"
    }
   ],
   "source": [
    "#QUES4:-  Why self is used in OOPs?\n",
    "#ans4:-\n",
    "'''The self variable is used to represent the instance of the class which is often \n",
    "used in object-oriented programming. It works as a reference to the object. Python\n",
    "uses the self parameter to refer to instance attributes and methods of the class.'''"
   ]
  },
  {
   "cell_type": "code",
   "execution_count": 11,
   "id": "b8ec7a84-800d-4a18-bceb-95489909ea2a",
   "metadata": {},
   "outputs": [
    {
     "data": {
      "text/plain": [
       "'Inheritance is a mechanism in which one class acquires the property \\nof another class. For example, a child inherits the traits of his/her parents. \\nWith inheritance, we can reuse the fields and methods of the existing\\nclass. Hence, inheritance facilitates Reusability and is an important concept of OOPs.\\n\\nSingle Inheritance: \\nSingle inheritance enables a derived class to inherit properties \\nfrom a single parent class, thus enabling code reusability and the\\naddition of new features to existing code.\\n\\nMultiple Inheritance: \\nWhen a class can be derived from more than one base \\nclass this type of inheritance is called multiple inheritances.\\nIn multiple inheritances, all the features of the base classes \\nare inherited into the derived class. \\n\\nMultilevel Inheritance :\\nIn multilevel inheritance, features of the base class and the derived \\nclass are further inherited into the new derived class. \\nThis is similar to a relationship representing a child and a grandfather. '"
      ]
     },
     "execution_count": 11,
     "metadata": {},
     "output_type": "execute_result"
    }
   ],
   "source": [
    "#Ques5:- What is inheritance? Give an example for each type of inheritance.\n",
    "#Ans5:-\n",
    "'''Inheritance is a mechanism in which one class acquires the property \n",
    "of another class. For example, a child inherits the traits of his/her parents. \n",
    "With inheritance, we can reuse the fields and methods of the existing\n",
    "class. Hence, inheritance facilitates Reusability and is an important concept of OOPs.\n",
    "\n",
    "Single Inheritance: \n",
    "Single inheritance enables a derived class to inherit properties \n",
    "from a single parent class, thus enabling code reusability and the\n",
    "addition of new features to existing code.\n",
    "\n",
    "Multiple Inheritance: \n",
    "When a class can be derived from more than one base \n",
    "class this type of inheritance is called multiple inheritances.\n",
    "In multiple inheritances, all the features of the base classes \n",
    "are inherited into the derived class. \n",
    "\n",
    "Multilevel Inheritance :\n",
    "In multilevel inheritance, features of the base class and the derived \n",
    "class are further inherited into the new derived class. \n",
    "This is similar to a relationship representing a child and a grandfather. '''\n",
    "\n"
   ]
  },
  {
   "cell_type": "code",
   "execution_count": 12,
   "id": "daf603b0-62b0-4e46-bf49-6c1cccc477fe",
   "metadata": {},
   "outputs": [
    {
     "name": "stdout",
     "output_type": "stream",
     "text": [
      "This function is in parent class.\n",
      "This function is in child class.\n"
     ]
    }
   ],
   "source": [
    "#EXAMPLES: OF ans5:- INHERITANCE\n",
    "#SINGLE INHERITANCE\n",
    "class Parent:\n",
    "    def func1(self):\n",
    "        print(\"This function is in parent class.\")\n",
    " \n",
    "\n",
    " \n",
    "class Child(Parent):\n",
    "    def func2(self):\n",
    "        print(\"This function is in child class.\")\n",
    " \n",
    " \n",
    "object = Child()\n",
    "object.func1()\n",
    "object.func2()\n"
   ]
  },
  {
   "cell_type": "code",
   "execution_count": 13,
   "id": "553eae4a-0d38-48ff-a32f-f4af6eda63cc",
   "metadata": {},
   "outputs": [
    {
     "name": "stdout",
     "output_type": "stream",
     "text": [
      "Father : RAM\n",
      "Mother : SITA\n"
     ]
    }
   ],
   "source": [
    "#MULTIPLE INHERITANCE\n",
    "class Mother:\n",
    "    mothername = \"\"\n",
    " \n",
    "    def mother(self):\n",
    "        print(self.mothername)\n",
    " \n",
    " \n",
    " \n",
    "class Father:\n",
    "    fathername = \"\"\n",
    " \n",
    "    def father(self):\n",
    "        print(self.fathername)\n",
    "\n",
    " \n",
    "class Son(Mother, Father):\n",
    "    def parents(self):\n",
    "        print(\"Father :\", self.fathername)\n",
    "        print(\"Mother :\", self.mothername)\n",
    " \n",
    " \n",
    "s1 = Son()\n",
    "s1.fathername = \"RAM\"\n",
    "s1.mothername = \"SITA\"\n",
    "s1.parents()"
   ]
  },
  {
   "cell_type": "code",
   "execution_count": null,
   "id": "9aa88649-6920-4f4c-87d1-9d51d24b0444",
   "metadata": {},
   "outputs": [],
   "source": [
    "#MULTILEVEL INHERITANCE\n",
    "class Grandfather:\n",
    " \n",
    "    def __init__(self, grandfathername):\n",
    "        self.grandfathername = grandfathername\n",
    " \n",
    "\n",
    " \n",
    " class Father(Grandfather):\n",
    "    def __init__(self, fathername, grandfathername):\n",
    "        self.fathername = fathername\n",
    " \n",
    "        # invoking constructor of Grandfather class\n",
    "        Grandfather.__init__(self, grandfathername)\n",
    " \n",
    "\n",
    " \n",
    " \n",
    "class Son(Father):\n",
    "    def __init__(self, sonname, fathername, grandfathername):\n",
    "        self.sonname = sonname\n",
    " \n",
    "        # invoking constructor of Father class\n",
    "        Father.__init__(self, fathername, grandfathername)\n",
    " \n",
    "    def print_name(self):\n",
    "        print('Grandfather name :', self.grandfathername)\n",
    "        print(\"Father name :\", self.fathername)\n",
    "        print(\"Son name :\", self.sonname)\n",
    "\n",
    "s1 = Son('Prince', 'Rampal', 'Lal mani')\n",
    "print(s1.grandfathername)\n",
    "s1.print_name()"
   ]
  }
 ],
 "metadata": {
  "kernelspec": {
   "display_name": "Python 3 (ipykernel)",
   "language": "python",
   "name": "python3"
  },
  "language_info": {
   "codemirror_mode": {
    "name": "ipython",
    "version": 3
   },
   "file_extension": ".py",
   "mimetype": "text/x-python",
   "name": "python",
   "nbconvert_exporter": "python",
   "pygments_lexer": "ipython3",
   "version": "3.10.8"
  }
 },
 "nbformat": 4,
 "nbformat_minor": 5
}
