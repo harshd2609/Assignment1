{
 "cells": [
  {
   "cell_type": "code",
   "execution_count": 1,
   "id": "c524fbdb-d80c-4417-8e37-fe4890413bad",
   "metadata": {},
   "outputs": [
    {
     "data": {
      "text/plain": [
       "\"Ans1:-\\nAn exception is an event, which occurs during the execution of a program that disrupts\\nthe normal flow of the program's instructions. In general, when a Python script encounters \\na situation that it cannot cope with, it raises an exception.\\nAn exception is a Python object that represents an error.\\n\\nErrors cannot be handled, while Python exceptions can be handled at the run time.\\nAn error can be a syntax (parsing) error, while there can be many types \\nof exceptions that could occur during the execution and are not unconditionally inoperable.\\n\\n\""
      ]
     },
     "execution_count": 1,
     "metadata": {},
     "output_type": "execute_result"
    }
   ],
   "source": [
    "#Q1.What is an Exception in python? Write the difference between Exceptions and Syntax errors.\n",
    "'''Ans1:-\n",
    "An exception is an event, which occurs during the execution of a program that disrupts\n",
    "the normal flow of the program's instructions. In general, when a Python script encounters \n",
    "a situation that it cannot cope with, it raises an exception.\n",
    "An exception is a Python object that represents an error.\n",
    "\n",
    "Errors cannot be handled, while Python exceptions can be handled at the run time.\n",
    "An error can be a syntax (parsing) error, while there can be many types \n",
    "of exceptions that could occur during the execution and are not unconditionally inoperable.\n",
    "\n",
    "'''"
   ]
  },
  {
   "cell_type": "code",
   "execution_count": 3,
   "id": "c34be34a-2334-439c-a13f-fdd1aba3f512",
   "metadata": {},
   "outputs": [
    {
     "name": "stdout",
     "output_type": "stream",
     "text": [
      "this is my except block [Errno 2] No such file or directory: 'tst.txt'\n"
     ]
    }
   ],
   "source": [
    "#Q2. What happens when an exception is not handled? Explain with an example.\n",
    "'''ans2:\n",
    "If not handled in the code, causes the interpreter to exit. Raised when an \n",
    "operation or function is attempted that is invalid for the specified data type. \n",
    "Raised when the built-in function for a data type has the valid type of \n",
    "arguments, but the arguments have invalid values specified.\n",
    "\n",
    "example'''\n",
    "try :\n",
    "    f = open('tst.txt' , 'r')\n",
    "except Exception as e :\n",
    "    print('this is my except block' , e)"
   ]
  },
  {
   "cell_type": "code",
   "execution_count": 4,
   "id": "16db8081-d77c-46b0-99c0-93da4a6a3649",
   "metadata": {},
   "outputs": [],
   "source": [
    "#Q3. Which Python statements are used to catch and handle exceptions? Explain within example.\n",
    "'''The try and except block in Python is used to catch\n",
    "and handle exceptions. Python executes code following the \n",
    "try statement as a “normal” part of the program. The code that follows the except \n",
    "statement is the program's response to any exceptions in the preceding try clause.\n",
    "example:-'''\n",
    "\n",
    "try :\n",
    "    f = open('tst.txt' , 'w')\n",
    "    f.write('this is my assignment')\n",
    "    f.close\n",
    "except Exception as e :\n",
    "    print('this is my except block' , e)\n",
    "\n"
   ]
  },
  {
   "cell_type": "code",
   "execution_count": 5,
   "id": "7659c308-3d71-4ee9-a4eb-2162bb165150",
   "metadata": {},
   "outputs": [
    {
     "data": {
      "text/plain": [
       "'this is my assignment'"
      ]
     },
     "execution_count": 5,
     "metadata": {},
     "output_type": "execute_result"
    }
   ],
   "source": [
    "f = open('tst.txt' , 'r')\n",
    "f.read()"
   ]
  },
  {
   "cell_type": "code",
   "execution_count": 6,
   "id": "0a28b65b-15b6-465d-90f8-80a55a6d0f53",
   "metadata": {},
   "outputs": [],
   "source": [
    "#Q4. Explain with an example:\n",
    "'''\n",
    "a. try and else\n",
    "b. finally\n",
    "c. raise\n",
    "\n",
    "\n",
    "ans4:='''\n",
    "class validateage(Exception):\n",
    "    \n",
    "    def __init__(self , msg):\n",
    "        self.msg = msg\n",
    "        "
   ]
  },
  {
   "cell_type": "code",
   "execution_count": 7,
   "id": "255fdba2-0b59-489c-ae47-d1f56b2c8837",
   "metadata": {},
   "outputs": [],
   "source": [
    "def validaetage(age):\n",
    "    if age < 0 :\n",
    "        raise validateage('entered age is neagtive')\n",
    "    elif age> 200:\n",
    "        raise validateage('entered age is highhhh')\n",
    "    else :\n",
    "        print('age is Valid')\n",
    "        "
   ]
  },
  {
   "cell_type": "code",
   "execution_count": 8,
   "id": "855a3ce7-fcd3-4da9-ab19-17f00220ed73",
   "metadata": {},
   "outputs": [
    {
     "name": "stdin",
     "output_type": "stream",
     "text": [
      "enter your age: -98\n"
     ]
    },
    {
     "name": "stdout",
     "output_type": "stream",
     "text": [
      "entered age is neagtive\n"
     ]
    }
   ],
   "source": [
    "try:\n",
    "    age = int(input('enter your age:'))\n",
    "    validaetage(age)\n",
    "except validateage as e:\n",
    "    print(e)"
   ]
  },
  {
   "cell_type": "code",
   "execution_count": 9,
   "id": "916c3983-6170-44ec-b647-8d03c83ab68b",
   "metadata": {},
   "outputs": [],
   "source": [
    "#Q5. What are Custom Exceptions in python? Why do we need custom exceptions?\n",
    "#explain with an example?\n",
    "\n",
    "'''ans5:\n",
    "Custom exceptions are easy to create, especially when you do not go into all \n",
    "the fuss of adding the .__init__() and .__str__() methods. This is one of these \n",
    "rather rare situations in which less code means more functionality. More often\n",
    "than not, an empty class inheriting from the Exception class is the way to go.\n",
    "\n",
    "example:'''\n",
    "class EmptyVariableError(Exception):\n",
    "    pass\n",
    "\n",
    "def get_mean(x):\n",
    "    return sum(x) / len(x)\n",
    "\n",
    "def summarize(x):\n",
    "    try:\n",
    "        mean = get_mean(x)\n",
    "    except ZeroDivisionError as e:\n",
    "        raise EmptyVariableError from e\n",
    "    total = sum(x)\n",
    "    n = len(x)"
   ]
  },
  {
   "cell_type": "code",
   "execution_count": 10,
   "id": "18560a8c-3ecf-4ae4-ad52-7671cb5ef26d",
   "metadata": {},
   "outputs": [],
   "source": [
    "#Q6. Create a custom exception class. Use this class to handle an exception."
   ]
  },
  {
   "cell_type": "code",
   "execution_count": 12,
   "id": "086c2e21-0108-4db0-a66a-ef0c7c80f939",
   "metadata": {},
   "outputs": [
    {
     "name": "stdin",
     "output_type": "stream",
     "text": [
      "Enter a number:  45\n"
     ]
    },
    {
     "name": "stdout",
     "output_type": "stream",
     "text": [
      "Eligible to Vote\n"
     ]
    }
   ],
   "source": [
    "#ans6\n",
    "class InvalidAgeException(Exception):\n",
    "    \"Raised when the input value is less than 18\"\n",
    "    pass\n",
    "\n",
    "number = 18\n",
    "\n",
    "try:\n",
    "    input_num = int(input(\"Enter a number: \"))\n",
    "    if input_num < number:\n",
    "        raise InvalidAgeException\n",
    "    else:\n",
    "        print(\"Eligible to Vote\")\n",
    "        \n",
    "except InvalidAgeException:\n",
    "    print(\"Exception occurred: Invalid Age\")"
   ]
  },
  {
   "cell_type": "code",
   "execution_count": null,
   "id": "1512a92e-369c-4c3b-b0d1-9502c55e96df",
   "metadata": {},
   "outputs": [],
   "source": []
  }
 ],
 "metadata": {
  "kernelspec": {
   "display_name": "Python 3 (ipykernel)",
   "language": "python",
   "name": "python3"
  },
  "language_info": {
   "codemirror_mode": {
    "name": "ipython",
    "version": 3
   },
   "file_extension": ".py",
   "mimetype": "text/x-python",
   "name": "python",
   "nbconvert_exporter": "python",
   "pygments_lexer": "ipython3",
   "version": "3.10.8"
  }
 },
 "nbformat": 4,
 "nbformat_minor": 5
}
